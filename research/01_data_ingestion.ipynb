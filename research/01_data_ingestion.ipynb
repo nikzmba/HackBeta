{
 "cells": [
  {
   "cell_type": "code",
   "execution_count": 1,
   "metadata": {},
   "outputs": [],
   "source": [
    "import os"
   ]
  },
  {
   "cell_type": "code",
   "execution_count": 23,
   "metadata": {},
   "outputs": [],
   "source": [
    "import sys\n",
    "sys.path.append('/Users/admin/HB_IDS/HackBeta/src')"
   ]
  },
  {
   "cell_type": "code",
   "execution_count": 2,
   "metadata": {},
   "outputs": [],
   "source": [
    "os.chdir('../')"
   ]
  },
  {
   "cell_type": "code",
   "execution_count": 3,
   "metadata": {},
   "outputs": [
    {
     "data": {
      "text/plain": [
       "'/Users/admin/HB_IDS/HackBeta'"
      ]
     },
     "execution_count": 3,
     "metadata": {},
     "output_type": "execute_result"
    }
   ],
   "source": [
    "pwd"
   ]
  },
  {
   "cell_type": "code",
   "execution_count": 16,
   "metadata": {},
   "outputs": [],
   "source": [
    "#entity\n",
    "from dataclasses import dataclass\n",
    "from pathlib import Path\n",
    "\n",
    "@dataclass(frozen=True)\n",
    "class DataIngestionConfig:\n",
    "    root_dir: Path\n",
    "    source_file_path: Path\n",
    "    local_data_file: Path\n",
    "           \n",
    "  "
   ]
  },
  {
   "cell_type": "code",
   "execution_count": 17,
   "metadata": {},
   "outputs": [],
   "source": [
    "from hackbeta.constants import *\n",
    "from hackbeta.utils.common import read_yaml,create_directories"
   ]
  },
  {
   "cell_type": "code",
   "execution_count": 18,
   "metadata": {},
   "outputs": [],
   "source": [
    "class ConfigurationManager:\n",
    "    def __init__(self, config_filepath=CONFIG_FILE_PATH, params_filepath=PARAMS_FILE_PATH):\n",
    "        self.config = read_yaml(config_filepath)\n",
    "        self.params = read_yaml(params_filepath)\n",
    "\n",
    "        # Create the root directory for artifacts as defined in the YAML configuration\n",
    "        create_directories([self.config['artifacts_root']])\n",
    "\n",
    "    def get_data_ingestion_config(self) -> DataIngestionConfig:\n",
    "        config = self.config['data_ingestion']\n",
    "\n",
    "        # Ensure the data ingestion root directory exists\n",
    "        create_directories([config['root_dir']])\n",
    "\n",
    "        # Create a DataIngestionConfig object with paths from the YAML configuration\n",
    "        data_ingestion_config = DataIngestionConfig(\n",
    "            root_dir=config['root_dir'],\n",
    "            source_file_path=config['source_file_path'],  # Path to the source CSV file\n",
    "            local_data_file=config['local_data_file'],    # Target path for the moved CSV file\n",
    "        )\n",
    "\n",
    "        return data_ingestion_config\n"
   ]
  },
  {
   "cell_type": "code",
   "execution_count": 19,
   "metadata": {},
   "outputs": [],
   "source": [
    "import os\n",
    "import shutil\n",
    "import urllib.request as request\n",
    "import zipfile\n",
    "from hackbeta.logging import logger\n",
    "from hackbeta.utils.common import get_size\n",
    "\n",
    "\n",
    "class DataIngestion:\n",
    "    def __init__(self, config):\n",
    "        self.config = config\n",
    "\n",
    "    def move_csv_file(self):\n",
    "        \"\"\"\n",
    "        Moves the CSV file from a source location to the target location\n",
    "        specified in the configuration. If the file already exists at the target\n",
    "        location, the function logs a message and does not overwrite the file.\n",
    "        \"\"\"\n",
    "        source_file_path = Path(self.config.source_file_path)  # Path to the source CSV file\n",
    "        target_file_path = Path(self.config.local_data_file)  # Target location as per configuration\n",
    "\n",
    "        # Ensure the target directory exists\n",
    "        target_file_path.parent.mkdir(parents=True, exist_ok=True)\n",
    "\n",
    "        if not source_file_path.exists():\n",
    "            logger.error(f\"Source CSV file does not exist at {source_file_path}\")\n",
    "            return\n",
    "\n",
    "        if target_file_path.exists():\n",
    "            logger.info(f\"File already exists at target location: {target_file_path}\")\n",
    "            return\n",
    "\n",
    "        try:\n",
    "            shutil.move(str(source_file_path), str(target_file_path))\n",
    "            logger.info(f\"CSV file moved successfully from {source_file_path} to {target_file_path}\")\n",
    "        except Exception as e:\n",
    "            logger.error(f\"Failed to move CSV file: {e}\")\n"
   ]
  },
  {
   "cell_type": "code",
   "execution_count": 25,
   "metadata": {},
   "outputs": [
    {
     "name": "stdout",
     "output_type": "stream",
     "text": [
      "[2024-04-06 20:54:56,340: INFO: common: yaml file: config/config.yaml loaded successfully]\n",
      "[2024-04-06 20:54:56,372: INFO: common: yaml file: params.yaml loaded successfully]\n",
      "[2024-04-06 20:54:56,378: INFO: common: created directory at: artifacts]\n",
      "[2024-04-06 20:54:56,380: INFO: common: created directory at: artifacts/data_ingestion]\n",
      "[2024-04-06 20:54:56,392: INFO: 3907264586: CSV file moved successfully from /Users/admin/Downloads/Leather_Mag_Text_Cleaned.csv to artifacts/data_ingestion/Leather_Mag_Text_Cleaned.csv]\n"
     ]
    }
   ],
   "source": [
    "try:\n",
    "    config = ConfigurationManager()\n",
    "    data_ingestion_config = config.get_data_ingestion_config()\n",
    "    data_ingestion = DataIngestion(config=data_ingestion_config)\n",
    "    data_ingestion.move_csv_file()  \n",
    "except Exception as e:\n",
    "    raise e\n"
   ]
  }
 ],
 "metadata": {
  "kernelspec": {
   "display_name": "Python 3",
   "language": "python",
   "name": "python3"
  },
  "language_info": {
   "codemirror_mode": {
    "name": "ipython",
    "version": 3
   },
   "file_extension": ".py",
   "mimetype": "text/x-python",
   "name": "python",
   "nbconvert_exporter": "python",
   "pygments_lexer": "ipython3",
   "version": "3.8.19"
  }
 },
 "nbformat": 4,
 "nbformat_minor": 2
}
